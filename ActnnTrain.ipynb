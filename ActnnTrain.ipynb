{
 "cells": [
  {
   "cell_type": "code",
   "execution_count": null,
   "metadata": {},
   "outputs": [],
   "source": [
    "import torch\n",
    "import torch.nn as nn\n",
    "import torch.nn.functional as F\n",
    "from torch.autograd import Variable\n",
    "\n",
    "from data_feeder import getDrivingData\n",
    "from Actnn import Actnn\n",
    "from solver import Solver\n",
    "\n",
    "train_data = getDrivingData('racingdata/race1515861815.769681.txt')\n",
    "train_loader = torch.utils.data.DataLoader(train_data, batch_size=5, shuffle=True)\n",
    "\n",
    "model = Actnn()\n",
    "solver = Solver(optim_args={\"lr\": 1e-3, 'momentum': 0.9})\n",
    "solver.train(model, train_loader, log_nth=10, num_epochs=10)"
   ]
  }
 ],
 "metadata": {
  "kernelspec": {
   "display_name": "Python 3",
   "language": "python",
   "name": "python3"
  },
  "language_info": {
   "codemirror_mode": {
    "name": "ipython",
    "version": 3
   },
   "file_extension": ".py",
   "mimetype": "text/x-python",
   "name": "python",
   "nbconvert_exporter": "python",
   "pygments_lexer": "ipython3",
   "version": "3.6.3"
  }
 },
 "nbformat": 4,
 "nbformat_minor": 2
}
