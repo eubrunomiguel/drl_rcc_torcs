{
 "cells": [
  {
   "cell_type": "code",
   "execution_count": 54,
   "metadata": {},
   "outputs": [
    {
     "name": "stdout",
     "output_type": "stream",
     "text": [
      "The autoreload extension is already loaded. To reload it, use:\n",
      "  %reload_ext autoreload\n"
     ]
    }
   ],
   "source": [
    "import numpy as np\n",
    "import matplotlib.pyplot as plt\n",
    "import torch\n",
    "from torch.autograd import Variable\n",
    "\n",
    "%matplotlib inline\n",
    "plt.rcParams['figure.figsize'] = (10.0, 8.0) # set default size of plots\n",
    "plt.rcParams['image.interpolation'] = 'nearest'\n",
    "plt.rcParams['image.cmap'] = 'gray'\n",
    "\n",
    "# for auto-reloading external modules\n",
    "# see http://stackoverflow.com/questions/1907993/autoreload-of-modules-in-ipython\n",
    "%load_ext autoreload\n",
    "%autoreload 2"
   ]
  },
  {
   "cell_type": "code",
   "execution_count": 85,
   "metadata": {},
   "outputs": [],
   "source": [
    "weightinit = False\n",
    "grayscale = False\n",
    "augmentation = False\n",
    "preprocess = True\n",
    "lossfunc = torch.nn.MSELoss(size_average=True)"
   ]
  },
  {
   "cell_type": "code",
   "execution_count": 86,
   "metadata": {},
   "outputs": [
    {
     "name": "stdout",
     "output_type": "stream",
     "text": [
      "DrivingNN(\n",
      "  (expander): Conv2d (1, 3, kernel_size=(3, 3), stride=(1, 1), padding=(1, 1))\n",
      "  (pretrained_model): Sequential(\n",
      "    (0): Conv2d (3, 64, kernel_size=(3, 3), stride=(1, 1), padding=(1, 1))\n",
      "    (1): ReLU(inplace)\n",
      "    (2): Conv2d (64, 64, kernel_size=(3, 3), stride=(1, 1), padding=(1, 1))\n",
      "    (3): ReLU(inplace)\n",
      "    (4): MaxPool2d(kernel_size=(2, 2), stride=(2, 2), dilation=(1, 1))\n",
      "    (5): Conv2d (64, 128, kernel_size=(3, 3), stride=(1, 1), padding=(1, 1))\n",
      "    (6): ReLU(inplace)\n",
      "    (7): Conv2d (128, 128, kernel_size=(3, 3), stride=(1, 1), padding=(1, 1))\n",
      "    (8): ReLU(inplace)\n",
      "    (9): MaxPool2d(kernel_size=(2, 2), stride=(2, 2), dilation=(1, 1))\n",
      "    (10): Conv2d (128, 256, kernel_size=(3, 3), stride=(1, 1), padding=(1, 1))\n",
      "    (11): ReLU(inplace)\n",
      "    (12): Conv2d (256, 256, kernel_size=(3, 3), stride=(1, 1), padding=(1, 1))\n",
      "    (13): ReLU(inplace)\n",
      "    (14): Conv2d (256, 256, kernel_size=(3, 3), stride=(1, 1), padding=(1, 1))\n",
      "    (15): ReLU(inplace)\n",
      "    (16): MaxPool2d(kernel_size=(2, 2), stride=(2, 2), dilation=(1, 1))\n",
      "    (17): Conv2d (256, 512, kernel_size=(3, 3), stride=(1, 1), padding=(1, 1))\n",
      "    (18): ReLU(inplace)\n",
      "    (19): Conv2d (512, 512, kernel_size=(3, 3), stride=(1, 1), padding=(1, 1))\n",
      "    (20): ReLU(inplace)\n",
      "    (21): Conv2d (512, 512, kernel_size=(3, 3), stride=(1, 1), padding=(1, 1))\n",
      "    (22): ReLU(inplace)\n",
      "    (23): MaxPool2d(kernel_size=(2, 2), stride=(2, 2), dilation=(1, 1))\n",
      "    (24): Conv2d (512, 512, kernel_size=(3, 3), stride=(1, 1), padding=(1, 1))\n",
      "    (25): ReLU(inplace)\n",
      "    (26): Conv2d (512, 512, kernel_size=(3, 3), stride=(1, 1), padding=(1, 1))\n",
      "    (27): ReLU(inplace)\n",
      "    (28): Conv2d (512, 512, kernel_size=(3, 3), stride=(1, 1), padding=(1, 1))\n",
      "    (29): ReLU(inplace)\n",
      "    (30): MaxPool2d(kernel_size=(2, 2), stride=(2, 2), dilation=(1, 1))\n",
      "  )\n",
      "  (classifier): Sequential(\n",
      "    (0): Linear(in_features=2048, out_features=1024)\n",
      "    (1): ReLU()\n",
      "    (2): Linear(in_features=1024, out_features=512)\n",
      "    (3): ReLU()\n",
      "    (4): Linear(in_features=512, out_features=128)\n",
      "    (5): ReLU()\n",
      "    (6): Linear(in_features=128, out_features=1)\n",
      "  )\n",
      ")\n"
     ]
    }
   ],
   "source": [
    "from network import *\n",
    "import torchvision.models as models\n",
    "\n",
    "vgg16 = models.vgg16(pretrained=True)\n",
    "vgg16 = torch.nn.Sequential(*list(vgg16.features.children()))\n",
    "network = DrivingNN(pretrained_model=vgg16, grayscale=grayscale, weight_init=weightinit)\n",
    "\n",
    "print(network)"
   ]
  },
  {
   "cell_type": "code",
   "execution_count": 87,
   "metadata": {},
   "outputs": [
    {
     "name": "stdout",
     "output_type": "stream",
     "text": [
      "Preprocessing: feature normalization\n",
      "Number of examples 1298/3/64/64. Size in bytes 63799296\n"
     ]
    }
   ],
   "source": [
    "from data_feeder import *\n",
    "train_data, val_data = getDrivingData(speed=30, track=1, preprocess=preprocess, greyscale=grayscale, augmentation=augmentation)\n",
    "train_loader = torch.utils.data.DataLoader(train_data, batch_size=50, shuffle=True, num_workers=4)"
   ]
  },
  {
   "cell_type": "code",
   "execution_count": 88,
   "metadata": {},
   "outputs": [
    {
     "name": "stdout",
     "output_type": "stream",
     "text": [
      "Cuda available\n",
      "START TRAIN.\n",
      "[Epoch 1/100/2.958s] TRAIN acc/loss: 0.029/0.010\n",
      "[Epoch 2/100/2.788s] TRAIN acc/loss: 0.108/0.001\n",
      "[Epoch 3/100/2.788s] TRAIN acc/loss: 0.163/0.001\n",
      "[Epoch 4/100/2.780s] TRAIN acc/loss: 0.236/0.000\n",
      "[Epoch 5/100/2.773s] TRAIN acc/loss: 0.269/0.000\n",
      "[Epoch 6/100/2.788s] TRAIN acc/loss: 0.284/0.000\n",
      "[Epoch 7/100/2.772s] TRAIN acc/loss: 0.316/0.000\n",
      "[Epoch 8/100/2.784s] TRAIN acc/loss: 0.333/0.000\n",
      "[Epoch 9/100/2.803s] TRAIN acc/loss: 0.345/0.000\n",
      "[Epoch 10/100/2.788s] TRAIN acc/loss: 0.345/0.000\n",
      "[Epoch 11/100/2.796s] TRAIN acc/loss: 0.388/0.000\n",
      "[Epoch 12/100/2.807s] TRAIN acc/loss: 0.400/0.000\n",
      "[Epoch 13/100/2.812s] TRAIN acc/loss: 0.406/0.000\n",
      "[Epoch 14/100/2.800s] TRAIN acc/loss: 0.399/0.000\n",
      "[Epoch 15/100/2.807s] TRAIN acc/loss: 0.427/0.000\n",
      "[Epoch 16/100/2.816s] TRAIN acc/loss: 0.460/0.000\n",
      "[Epoch 17/100/2.796s] TRAIN acc/loss: 0.465/0.000\n",
      "[Epoch 18/100/2.813s] TRAIN acc/loss: 0.465/0.000\n",
      "[Epoch 19/100/2.804s] TRAIN acc/loss: 0.476/0.000\n",
      "[Epoch 20/100/2.804s] TRAIN acc/loss: 0.469/0.000\n",
      "[Epoch 21/100/2.808s] TRAIN acc/loss: 0.413/0.000\n",
      "[Epoch 22/100/2.800s] TRAIN acc/loss: 0.477/0.000\n",
      "[Epoch 23/100/2.796s] TRAIN acc/loss: 0.463/0.000\n",
      "[Epoch 24/100/2.800s] TRAIN acc/loss: 0.441/0.000\n",
      "[Epoch 25/100/2.813s] TRAIN acc/loss: 0.446/0.000\n",
      "[Epoch 26/100/2.808s] TRAIN acc/loss: 0.449/0.000\n",
      "[Epoch 27/100/2.808s] TRAIN acc/loss: 0.433/0.000\n",
      "[Epoch 28/100/2.804s] TRAIN acc/loss: 0.446/0.000\n",
      "[Epoch 29/100/2.796s] TRAIN acc/loss: 0.424/0.000\n",
      "[Epoch 30/100/2.797s] TRAIN acc/loss: 0.449/0.000\n",
      "[Epoch 31/100/2.812s] TRAIN acc/loss: 0.484/0.000\n",
      "[Epoch 32/100/2.817s] TRAIN acc/loss: 0.435/0.000\n",
      "[Epoch 33/100/2.808s] TRAIN acc/loss: 0.497/0.000\n",
      "[Epoch 34/100/2.801s] TRAIN acc/loss: 0.523/0.000\n",
      "[Epoch 35/100/2.800s] TRAIN acc/loss: 0.520/0.000\n",
      "[Epoch 36/100/2.800s] TRAIN acc/loss: 0.511/0.000\n",
      "[Epoch 37/100/2.804s] TRAIN acc/loss: 0.439/0.000\n",
      "[Epoch 38/100/2.796s] TRAIN acc/loss: 0.436/0.000\n",
      "[Epoch 39/100/2.804s] TRAIN acc/loss: 0.494/0.000\n",
      "[Epoch 40/100/2.796s] TRAIN acc/loss: 0.519/0.000\n",
      "[Epoch 41/100/2.812s] TRAIN acc/loss: 0.479/0.000\n",
      "[Epoch 42/100/2.808s] TRAIN acc/loss: 0.542/0.000\n",
      "[Epoch 43/100/2.796s] TRAIN acc/loss: 0.515/0.000\n",
      "[Epoch 44/100/2.792s] TRAIN acc/loss: 0.513/0.000\n",
      "[Epoch 45/100/2.820s] TRAIN acc/loss: 0.538/0.000\n",
      "[Epoch 46/100/2.814s] TRAIN acc/loss: 0.541/0.000\n",
      "[Epoch 47/100/2.808s] TRAIN acc/loss: 0.538/0.000\n",
      "[Epoch 48/100/2.804s] TRAIN acc/loss: 0.453/0.000\n",
      "[Epoch 49/100/2.804s] TRAIN acc/loss: 0.550/0.000\n",
      "[Epoch 50/100/2.795s] TRAIN acc/loss: 0.539/0.000\n",
      "[Epoch 51/100/2.805s] TRAIN acc/loss: 0.566/0.000\n",
      "[Epoch 52/100/2.812s] TRAIN acc/loss: 0.558/0.000\n",
      "[Epoch 53/100/2.823s] TRAIN acc/loss: 0.510/0.000\n",
      "[Epoch 54/100/2.804s] TRAIN acc/loss: 0.533/0.000\n",
      "[Epoch 55/100/2.804s] TRAIN acc/loss: 0.575/0.000\n",
      "[Epoch 56/100/2.804s] TRAIN acc/loss: 0.527/0.000\n",
      "[Epoch 57/100/2.824s] TRAIN acc/loss: 0.518/0.000\n",
      "[Epoch 58/100/2.816s] TRAIN acc/loss: 0.546/0.000\n",
      "[Epoch 59/100/2.827s] TRAIN acc/loss: 0.531/0.000\n",
      "[Epoch 60/100/2.816s] TRAIN acc/loss: 0.518/0.000\n",
      "[Epoch 61/100/2.813s] TRAIN acc/loss: 0.540/0.000\n",
      "[Epoch 62/100/2.808s] TRAIN acc/loss: 0.560/0.000\n",
      "[Epoch 63/100/2.816s] TRAIN acc/loss: 0.556/0.000\n",
      "[Epoch 64/100/2.821s] TRAIN acc/loss: 0.538/0.000\n",
      "[Epoch 65/100/2.819s] TRAIN acc/loss: 0.548/0.000\n",
      "[Epoch 66/100/2.812s] TRAIN acc/loss: 0.569/0.000\n",
      "[Epoch 67/100/2.808s] TRAIN acc/loss: 0.572/0.000\n",
      "[Epoch 68/100/2.812s] TRAIN acc/loss: 0.553/0.000\n",
      "[Epoch 69/100/2.821s] TRAIN acc/loss: 0.579/0.000\n",
      "[Epoch 70/100/2.816s] TRAIN acc/loss: 0.558/0.000\n",
      "[Epoch 71/100/2.829s] TRAIN acc/loss: 0.570/0.000\n",
      "[Epoch 72/100/2.831s] TRAIN acc/loss: 0.565/0.000\n",
      "[Epoch 73/100/2.804s] TRAIN acc/loss: 0.575/0.000\n",
      "[Epoch 74/100/2.808s] TRAIN acc/loss: 0.559/0.000\n",
      "[Epoch 75/100/2.809s] TRAIN acc/loss: 0.546/0.000\n",
      "[Epoch 76/100/2.808s] TRAIN acc/loss: 0.542/0.000\n",
      "[Epoch 77/100/2.820s] TRAIN acc/loss: 0.485/0.000\n",
      "[Epoch 78/100/2.812s] TRAIN acc/loss: 0.521/0.000\n",
      "[Epoch 79/100/2.816s] TRAIN acc/loss: 0.536/0.000\n",
      "[Epoch 80/100/2.812s] TRAIN acc/loss: 0.566/0.000\n",
      "[Epoch 81/100/2.801s] TRAIN acc/loss: 0.578/0.000\n",
      "[Epoch 82/100/2.808s] TRAIN acc/loss: 0.541/0.000\n",
      "[Epoch 83/100/2.819s] TRAIN acc/loss: 0.560/0.000\n",
      "[Epoch 84/100/2.828s] TRAIN acc/loss: 0.545/0.000\n",
      "[Epoch 85/100/2.812s] TRAIN acc/loss: 0.546/0.000\n",
      "[Epoch 86/100/2.820s] TRAIN acc/loss: 0.564/0.000\n",
      "[Epoch 87/100/2.812s] TRAIN acc/loss: 0.576/0.000\n",
      "[Epoch 88/100/2.812s] TRAIN acc/loss: 0.572/0.000\n",
      "[Epoch 89/100/2.816s] TRAIN acc/loss: 0.571/0.000\n",
      "[Epoch 90/100/2.812s] TRAIN acc/loss: 0.582/0.000\n",
      "[Epoch 91/100/2.824s] TRAIN acc/loss: 0.600/0.000\n",
      "[Epoch 92/100/2.820s] TRAIN acc/loss: 0.602/0.000\n",
      "[Epoch 93/100/2.807s] TRAIN acc/loss: 0.568/0.000\n",
      "[Epoch 94/100/2.804s] TRAIN acc/loss: 0.582/0.000\n",
      "[Epoch 95/100/2.804s] TRAIN acc/loss: 0.587/0.000\n",
      "[Epoch 96/100/2.824s] TRAIN acc/loss: 0.592/0.000\n",
      "[Epoch 97/100/2.812s] TRAIN acc/loss: 0.564/0.000\n",
      "[Epoch 98/100/2.792s] TRAIN acc/loss: 0.507/0.000\n",
      "[Epoch 99/100/2.808s] TRAIN acc/loss: 0.577/0.000\n",
      "[Epoch 100/100/2.796s] TRAIN acc/loss: 0.590/0.000\n",
      "FINISH.\n"
     ]
    }
   ],
   "source": [
    "from solver import *\n",
    "\n",
    "try:\n",
    "    solver = Solver(loss_func = lossfunc)\n",
    "    accuracy_history, loss_history = solver.train(network, train_loader, num_epochs=100, learning_rate=1e-3)\n",
    "except KeyboardInterrupt:\n",
    "#     model.save(\"models/segmentation_nn.model\")\n",
    "    pass"
   ]
  },
  {
   "cell_type": "code",
   "execution_count": 89,
   "metadata": {},
   "outputs": [
    {
     "data": {
      "image/png": "[encoded data removed]",
      "text/plain": [
       "<matplotlib.figure.Figure at 0x7f5efafb3dd8>"
      ]
     },
     "metadata": {},
     "output_type": "display_data"
    }
   ],
   "source": [
    "# Plot the loss function and train / validation accuracies\n",
    "plt.subplots(nrows=2, ncols=1)\n",
    "\n",
    "plt.subplot(2, 1, 1)\n",
    "plt.plot(loss_history)\n",
    "plt.title('Loss history')\n",
    "plt.xlabel('Epoch')\n",
    "plt.ylabel('Loss')\n",
    "\n",
    "plt.subplot(2, 1, 2)\n",
    "plt.plot(accuracy_history, label='train')\n",
    "plt.title('Classification accuracy history')\n",
    "plt.xlabel('Epoch')\n",
    "plt.ylabel('Classification accuracy')\n",
    "plt.tight_layout()\n",
    "plt.show()"
   ]
  },
  {
   "cell_type": "code",
   "execution_count": null,
   "metadata": {},
   "outputs": [],
   "source": []
  }
 ],
 "metadata": {
  "kernelspec": {
   "display_name": "Python 3",
   "language": "python",
   "name": "python3"
  },
  "language_info": {
   "codemirror_mode": {
    "name": "ipython",
    "version": 3
   },
   "file_extension": ".py",
   "mimetype": "text/x-python",
   "name": "python",
   "nbconvert_exporter": "python",
   "pygments_lexer": "ipython3",
   "version": "3.5.2"
  }
 },
 "nbformat": 4,
 "nbformat_minor": 2
}
