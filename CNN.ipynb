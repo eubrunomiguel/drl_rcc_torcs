{
 "cells": [
  {
   "cell_type": "code",
   "execution_count": 10,
   "metadata": {
    "scrolled": true
   },
   "outputs": [
    {
     "name": "stdout",
     "output_type": "stream",
     "text": [
      "(3, 64, 64, 51)\n"
     ]
    },
    {
     "ename": "RuntimeError",
     "evalue": "Variable data has to be a tensor, but got numpy.ndarray",
     "output_type": "error",
     "traceback": [
      "\u001b[0;31m---------------------------------------------------------------------------\u001b[0m",
      "\u001b[0;31mRuntimeError\u001b[0m                              Traceback (most recent call last)",
      "\u001b[0;32m<ipython-input-10-f36797f8ffad>\u001b[0m in \u001b[0;36m<module>\u001b[0;34m()\u001b[0m\n\u001b[1;32m     82\u001b[0m \u001b[0;34m\u001b[0m\u001b[0m\n\u001b[1;32m     83\u001b[0m \u001b[0msolver\u001b[0m \u001b[0;34m=\u001b[0m \u001b[0mSolver\u001b[0m\u001b[0;34m(\u001b[0m\u001b[0;34m)\u001b[0m\u001b[0;34m\u001b[0m\u001b[0m\n\u001b[0;32m---> 84\u001b[0;31m \u001b[0msolver\u001b[0m\u001b[0;34m.\u001b[0m\u001b[0mtrain\u001b[0m\u001b[0;34m(\u001b[0m\u001b[0mtrain_data\u001b[0m\u001b[0;34m)\u001b[0m\u001b[0;34m\u001b[0m\u001b[0m\n\u001b[0m\u001b[1;32m     85\u001b[0m \u001b[0;34m\u001b[0m\u001b[0m\n\u001b[1;32m     86\u001b[0m \u001b[0;34m\u001b[0m\u001b[0m\n",
      "\u001b[0;32m<ipython-input-10-f36797f8ffad>\u001b[0m in \u001b[0;36mtrain\u001b[0;34m(self, train_data, num_epochs, learning_rate, batch_size, pretrained)\u001b[0m\n\u001b[1;32m     62\u001b[0m                     \u001b[0mimages\u001b[0m \u001b[0;34m=\u001b[0m \u001b[0mimages\u001b[0m\u001b[0;34m.\u001b[0m\u001b[0mT\u001b[0m\u001b[0;34m\u001b[0m\u001b[0m\n\u001b[1;32m     63\u001b[0m                     \u001b[0mprint\u001b[0m\u001b[0;34m(\u001b[0m\u001b[0mimages\u001b[0m\u001b[0;34m.\u001b[0m\u001b[0mshape\u001b[0m\u001b[0;34m)\u001b[0m\u001b[0;34m\u001b[0m\u001b[0m\n\u001b[0;32m---> 64\u001b[0;31m                     \u001b[0mimages\u001b[0m \u001b[0;34m=\u001b[0m \u001b[0mVariable\u001b[0m\u001b[0;34m(\u001b[0m\u001b[0mimages\u001b[0m\u001b[0;34m)\u001b[0m\u001b[0;34m\u001b[0m\u001b[0m\n\u001b[0m\u001b[1;32m     65\u001b[0m                     \u001b[0mlabels\u001b[0m \u001b[0;34m=\u001b[0m \u001b[0mVariable\u001b[0m\u001b[0;34m(\u001b[0m\u001b[0mlabels\u001b[0m\u001b[0;34m)\u001b[0m\u001b[0;34m\u001b[0m\u001b[0m\n\u001b[1;32m     66\u001b[0m                     \u001b[0moptimizer\u001b[0m\u001b[0;34m.\u001b[0m\u001b[0mzero_grad\u001b[0m\u001b[0;34m(\u001b[0m\u001b[0;34m)\u001b[0m\u001b[0;34m\u001b[0m\u001b[0m\n",
      "\u001b[0;31mRuntimeError\u001b[0m: Variable data has to be a tensor, but got numpy.ndarray"
     ]
    }
   ],
   "source": [
    "import torch\n",
    "from torch.autograd import Variable\n",
    "import torch.nn as nn\n",
    "import torch.nn.functional as F\n",
    "from datahandler.datafeeder import DrivingData\n",
    "import numpy\n",
    "\n",
    "\n",
    "\n",
    "class Model(nn.Module):\n",
    "    def __init__(self):\n",
    "        super(Model, self).__init__()\n",
    "        pretrained = False;\n",
    "        if (pretrained == True):\n",
    "            self.model = torchvision.models.vgg16(pretrained=True)\n",
    "            for param in self.model.parameters():\n",
    "                param.requires_grad = False\n",
    "            self.model.fc = nn.Linear(128, 1) \n",
    "        else:\n",
    "                self.model = nn.Sequential(\n",
    "                    nn.Conv2d(3, 16, 5), \n",
    "                    nn.BatchNorm2d(16)\n",
    "                        ,nn.ReLU()\n",
    "                        ,nn.Conv2d(16, 32, 5)\n",
    "                        ,nn.BatchNorm2d(32)\n",
    "                            ,nn.ReLU()\n",
    "                         ,nn.Conv2d(32, 128, 5)\n",
    "                            ,nn.BatchNorm2d(128)\n",
    "                            ,nn.ReLU()\n",
    "                            ,nn.Conv2d(128, 256, 5)\n",
    "                                ,nn.BatchNorm2d(256)\n",
    "                                ,nn.Linear(256, 128)\n",
    "                                    ,nn.BatchNorm1d(128)\n",
    "                                    ,nn.ReLU()\n",
    "                                    ,nn.Linear(128, 1)\n",
    "                ) \n",
    "    \n",
    "    def forward(self, input_data):\n",
    "        return self.model(input_data)\n",
    "    \n",
    "class Solver():\n",
    "    def __init__(self):\n",
    "        super(Solver, self).__init__()\n",
    "        \n",
    "    def loss(self, pred, labels):\n",
    "        return nn.MSELoss(pred, labels)\n",
    "\n",
    "    def train(self, train_data, num_epochs = 10, learning_rate = 1e-2, batch_size = 128, pretrained = False):\n",
    "\n",
    "            train_loader = torch.utils.data.DataLoader(dataset = train_data,\n",
    "\n",
    "                                               batch_size=batch_size, \n",
    "\n",
    "                                               shuffle=True)\n",
    "\n",
    "            cnn = Model()\n",
    "            optimizer = torch.optim.Adam(cnn.parameters(), lr = learning_rate)\n",
    "\n",
    "            for i in range(num_epochs):\n",
    "                for j, (images, labels) in enumerate(train_loader):\n",
    "                    images = numpy.asarray(images)\n",
    "                    images = images.T\n",
    "                    print(images.shape)\n",
    "                    images = Variable(images)\n",
    "                    labels = Variable(labels)\n",
    "                    optimizer.zero_grad()\n",
    "                    print(images.shape)\n",
    "                    print(images[0].shape)\n",
    "                    pred = cnn(images)\n",
    "                    loss = self.loss(pred, labels)\n",
    "                    net.zero_grad()\n",
    "                    loss.backward()\n",
    "                    optimizer.step()\n",
    "\n",
    "                    if (i+1) % 100 == 0:\n",
    "\n",
    "                        print ('Epoch [%d/%d], Iter [%d/%d] Loss: %.4f' \n",
    "\n",
    "                       %(epoch+1, num_epochs, i+1, len(train_dataset)//batch_size, loss.data[0]))\n",
    "                        \n",
    "train_data = DrivingData('racingdata/race1515861815.769681.txt')\n",
    "\n",
    "solver = Solver()\n",
    "solver.train(train_data)         \n",
    "    \n",
    "        \n",
    "    \n",
    "    \n",
    "    \n",
    "    "
   ]
  },
  {
   "cell_type": "code",
   "execution_count": null,
   "metadata": {
    "collapsed": true
   },
   "outputs": [],
   "source": []
  },
  {
   "cell_type": "code",
   "execution_count": null,
   "metadata": {
    "collapsed": true
   },
   "outputs": [],
   "source": []
  }
 ],
 "metadata": {
  "kernelspec": {
   "display_name": "Python 3",
   "language": "python",
   "name": "python3"
  },
  "language_info": {
   "codemirror_mode": {
    "name": "ipython",
    "version": 3
   },
   "file_extension": ".py",
   "mimetype": "text/x-python",
   "name": "python",
   "nbconvert_exporter": "python",
   "pygments_lexer": "ipython3",
   "version": "3.5.2"
  }
 },
 "nbformat": 4,
 "nbformat_minor": 2
}
